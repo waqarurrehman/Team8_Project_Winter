{
 "cells": [
  {
   "cell_type": "code",
   "execution_count": 1,
   "id": "d59cf5d7",
   "metadata": {},
   "outputs": [],
   "source": [
    "import pandas as pd\n",
    "import numpy as np\n",
    "import xmltodict\n",
    "import pprint\n",
    "import random\n",
    "from IPython.display import clear_output\n",
    "from time import sleep\n",
    "\n",
    "np.random.seed(42)"
   ]
  },
  {
   "cell_type": "code",
   "execution_count": 2,
   "id": "7009b90d",
   "metadata": {},
   "outputs": [],
   "source": [
    "df = pd.read_csv(\"result.csv\", header=None, names=[\"fdb\", \"bbe\", \"sim\"])\n",
    "\n",
    "# Open the file and read the contents\n",
    "with open(\"books/input/target_bbe.xml\", 'r', encoding='utf-8') as file:\n",
    "    bbe_file = file.read()\n",
    "    \n",
    "with open(\"books/input/target_fdb.xml\", 'r', encoding='utf-8') as file:\n",
    "    fdb_file = file.read()\n",
    "  \n",
    "# the XML document\n",
    "bbe = xmltodict.parse(bbe_file)\n",
    "fdb = xmltodict.parse(fdb_file)"
   ]
  },
  {
   "cell_type": "code",
   "execution_count": 3,
   "id": "37a2dfd5",
   "metadata": {},
   "outputs": [],
   "source": [
    "df = df.sort_values(\"sim\")"
   ]
  },
  {
   "cell_type": "code",
   "execution_count": 4,
   "id": "54e8e647",
   "metadata": {},
   "outputs": [
    {
     "data": {
      "text/plain": [
       "161"
      ]
     },
     "execution_count": 4,
     "metadata": {},
     "output_type": "execute_result"
    }
   ],
   "source": [
    "corner_sim = df[(df[\"sim\"] < 1) & (df[\"sim\"] >= 0.7)]\n",
    "len(corner_sim)"
   ]
  },
  {
   "cell_type": "code",
   "execution_count": 5,
   "id": "e2846e93",
   "metadata": {},
   "outputs": [
    {
     "name": "stdout",
     "output_type": "stream",
     "text": [
      "OrderedDict([('@id', 'bbe_1356'),\n",
      "             ('title', 'Mrs. Frisby and the Rats of NIMH'),\n",
      "             ('release_date', '28/10/1971'),\n",
      "             ('rating', '4.14'),\n",
      "             ('part_of_a_series', 'Y'),\n",
      "             ('genre',\n",
      "              \"'Fantasy', 'Childrens', 'Fiction', 'Young Adult', 'Classics', \"\n",
      "              \"'Animals', 'Middle Grade', 'Adventure', 'Science Fiction', \"\n",
      "              \"'Juvenile'\"),\n",
      "             ('publisher', 'Aladdin Paperbacks'),\n",
      "             ('authors', OrderedDict([('author', \"Robert C. O'Brien\")])),\n",
      "             ('price', '8.45'),\n",
      "             ('isbn', '9780689862205'),\n",
      "             ('language', 'English'),\n",
      "             ('pages', '240'),\n",
      "             ('formats', 'Paperback')])\n",
      "OrderedDict([('@id', 'fdb_483'),\n",
      "             ('title', 'Mrs. Frisby and the Rats of NIMH / The Secret of NIMH'),\n",
      "             ('release_date', '1/1/1972'),\n",
      "             ('rating', '4.5'),\n",
      "             ('genre', 'General Fiction'),\n",
      "             ('authors', OrderedDict([('author', \"Robert C. O'Brien\")]))])\n",
      "Same entity? [y|n]y\n"
     ]
    }
   ],
   "source": [
    "file_corner = open(\"gold_corner.csv\", \"w\", encoding=\"utf-8\")\n",
    "for _, fdb_id, bbe_id, _ in corner_sim.itertuples():\n",
    "    # get the entries from the files\n",
    "    bbe_item = next(item for item in bbe[\"books\"][\"book\"] if item[\"@id\"] == bbe_id)\n",
    "    fdb_item = next(item for item in fdb[\"books\"][\"book\"] if item[\"@id\"] == fdb_id)\n",
    "    # print them so user can manually compare if they correspond\n",
    "    pprint.pprint(bbe_item)\n",
    "    pprint.pprint(fdb_item)\n",
    "    sleep(0.5)\n",
    "    # ask the user for correspondence\n",
    "    gold = input(\"Same entity? [y|n]\")\n",
    "    if gold == \"y\":\n",
    "        gold = \"TRUE\"\n",
    "    else:\n",
    "        gold = \"FALSE\"\n",
    "    # write to gold standard\n",
    "    file_corner.write('{0},{1},{2}\\n'.format(bbe_id, fdb_id, gold))\n",
    "    sleep(0.5)\n",
    "    clear_output(wait=True)"
   ]
  },
  {
   "cell_type": "code",
   "execution_count": 6,
   "id": "bd5f3db1",
   "metadata": {},
   "outputs": [],
   "source": [
    "perfect_sim = df[df[\"sim\"] == 1].sample(300)"
   ]
  },
  {
   "cell_type": "code",
   "execution_count": 7,
   "id": "a69c0d05",
   "metadata": {},
   "outputs": [
    {
     "name": "stdout",
     "output_type": "stream",
     "text": [
      "OrderedDict([('@id', 'bbe_34879'),\n",
      "             ('title', 'Journey'),\n",
      "             ('release_date', '6/10/2000'),\n",
      "             ('rating', '3.9'),\n",
      "             ('part_of_a_series', 'N'),\n",
      "             ('genre',\n",
      "              \"'Romance', 'Fiction', 'Chick Lit', 'Contemporary', \"\n",
      "              \"'Contemporary Romance', 'Novels', 'Adult', 'Drama', 'Adult \"\n",
      "              \"Fiction', 'Womens Fiction'\"),\n",
      "             ('publisher', 'Dell'),\n",
      "             ('authors', OrderedDict([('author', 'Danielle Steel')])),\n",
      "             ('price', '6.06'),\n",
      "             ('isbn', '9780440243762'),\n",
      "             ('language', 'English'),\n",
      "             ('pages', '384'),\n",
      "             ('formats', 'Mass Market Paperback')])\n",
      "OrderedDict([('@id', 'fdb_11851'),\n",
      "             ('title', 'Journey'),\n",
      "             ('release_date', '1/8/2013'),\n",
      "             ('rating', '4'),\n",
      "             ('genre', 'Fantasy'),\n",
      "             ('authors', OrderedDict([('author', 'Aaron Becker')]))])\n",
      "Same entity? [y|c|n]n\n"
     ]
    }
   ],
   "source": [
    "file_perfect = open(\"gold_perfect.csv\", \"w\", encoding=\"utf-8\")\n",
    "for _, fdb_id, bbe_id, _ in perfect_sim.itertuples():\n",
    "    # get the entries from the files\n",
    "    bbe_item = next(item for item in bbe[\"books\"][\"book\"] if item[\"@id\"] == bbe_id)\n",
    "    fdb_item = next(item for item in fdb[\"books\"][\"book\"] if item[\"@id\"] == fdb_id)\n",
    "    # print them so user can manually compare if they correspond\n",
    "    pprint.pprint(bbe_item)\n",
    "    pprint.pprint(fdb_item)\n",
    "    sleep(0.5)\n",
    "    # ask the user for correspondence\n",
    "    # if yes, it is a perfect match\n",
    "    # c is for corner-cases that correspond\n",
    "    # n is for corner-cases that do not correspond\n",
    "    gold = input(\"Same entity? [y|c|n]\")\n",
    "    if gold == \"y\":\n",
    "        file_perfect.write('{0},{1},{2}\\n'.format(bbe_id, fdb_id, \"TRUE\"))\n",
    "    elif gold == \"c\":\n",
    "        file_corner.write('{0},{1},{2}\\n'.format(bbe_id, fdb_id, \"TRUE\"))\n",
    "    elif gold == \"n\":\n",
    "        file_corner.write('{0},{1},{2}\\n'.format(bbe_id, fdb_id, \"FALSE\"))\n",
    "    sleep(0.5)\n",
    "    clear_output(wait=True)"
   ]
  },
  {
   "cell_type": "code",
   "execution_count": 8,
   "id": "d3641c75",
   "metadata": {},
   "outputs": [],
   "source": [
    "bbe_random = random.sample(list(bbe[\"books\"][\"book\"]), 250)\n",
    "fdb_random = random.sample(list(fdb[\"books\"][\"book\"]), 250)"
   ]
  },
  {
   "cell_type": "code",
   "execution_count": 38,
   "id": "41b50426",
   "metadata": {},
   "outputs": [
    {
     "name": "stdout",
     "output_type": "stream",
     "text": [
      "OrderedDict([('@id', 'bbe_15334'),\n",
      "             ('title', 'Treasure of Khan'),\n",
      "             ('release_date', '28/11/2006'),\n",
      "             ('rating', '3.91'),\n",
      "             ('part_of_a_series', 'Y'),\n",
      "             ('genre',\n",
      "              \"'Adventure', 'Fiction', 'Thriller', 'Action', 'Mystery', \"\n",
      "              \"'Historical Fiction', 'Mystery Thriller', 'Suspense', 'Crime', \"\n",
      "              \"'Audiobook'\"),\n",
      "             ('publisher', \"G.P. Putnam's Sons\"),\n",
      "             ('authors', OrderedDict([('author', 'Clive Cussler')])),\n",
      "             ('price', '3.45'),\n",
      "             ('isbn', '9780399153693'),\n",
      "             ('language', 'English'),\n",
      "             ('pages', '552'),\n",
      "             ('formats', 'Hardcover')])\n",
      "OrderedDict([('@id', 'fdb_3420'),\n",
      "             ('title', 'Misadventures in the (213)'),\n",
      "             ('release_date', '1/6/1999'),\n",
      "             ('rating', '4'),\n",
      "             ('genre', 'General Fiction'),\n",
      "             ('authors', OrderedDict([('author', 'Dennis Hensley')]))])\n"
     ]
    }
   ],
   "source": [
    "file_nomatch = open(\"gold_nomatch.csv\", \"w\", encoding=\"utf-8\")\n",
    "for bbe_item, fdb_item in zip(bbe_random, fdb_random):\n",
    "    file_nomatch.write('{0},{1},{2}\\n'.format(bbe_id, fdb_id, \"FALSE\"))\n",
    "    # print them so user can manually compare if they correspond\n",
    "    pprint.pprint(bbe_item)\n",
    "    pprint.pprint(fdb_item)\n",
    "    sleep(0.5)\n",
    "    # ask the user for correspondence\n",
    "    gold = input(\"Same entity? [y|cy|cn|n]\")\n",
    "    if gold == \"y\":\n",
    "        file_corner.write('{0},{1},{2}\\n'.format(bbe_id, fdb_id, \"TRUE\"))\n",
    "    elif gold == \"cy\":\n",
    "        file_corner.write('{0},{1},{2}\\n'.format(bbe_id, fdb_id, \"TRUE\"))\n",
    "    elif gold == \"cn\":\n",
    "        file_corner.write('{0},{1},{2}\\n'.format(bbe_id, fdb_id, \"FALSE\"))\n",
    "    elif gold == \"n\":\n",
    "    file_nomatch.write('{0},{1},{2}\\n'.format(bbe_id, fdb_id, \"FALSE\"))\n",
    "    sleep(0.5)\n",
    "    clear_output(wait=True)"
   ]
  },
  {
   "cell_type": "code",
   "execution_count": 39,
   "id": "bc7e32d5",
   "metadata": {},
   "outputs": [],
   "source": [
    "file_perfect.close()\n",
    "file_corner.close()\n",
    "file_nomatch.close()"
   ]
  },
  {
   "cell_type": "code",
   "execution_count": 40,
   "id": "bbc78ead",
   "metadata": {},
   "outputs": [],
   "source": [
    "goldstandard = open(\"books/goldstandard/gs_fdb_2_bbe.csv\", \"w\", encoding=\"utf-8\")\n",
    "\n",
    "all_entries = []\n",
    "\n",
    "file_perfect = open(\"gold_perfect.csv\", \"r\", encoding=\"utf-8\")\n",
    "file_corner = open(\"gold_corner.csv\", \"r\", encoding=\"utf-8\")\n",
    "file_nomatch = open(\"gold_nomatch.csv\", \"r\", encoding=\"utf-8\")\n",
    "\n",
    "for file in [file_perfect, file_corner, file_nomatch]:\n",
    "    for line in file.readlines():\n",
    "        all_entries.append(line)\n",
    "\n",
    "for entry in all_entries:\n",
    "    goldstandard.write(entry)"
   ]
  },
  {
   "cell_type": "code",
   "execution_count": 41,
   "id": "fd32ad1e",
   "metadata": {},
   "outputs": [],
   "source": [
    "file_perfect.close()\n",
    "file_corner.close()\n",
    "file_nomatch.close()\n",
    "goldstandard.close()"
   ]
  },
  {
   "cell_type": "code",
   "execution_count": null,
   "id": "6ced9e79",
   "metadata": {},
   "outputs": [],
   "source": []
  }
 ],
 "metadata": {
  "kernelspec": {
   "display_name": "Python 3",
   "language": "python",
   "name": "python3"
  },
  "language_info": {
   "codemirror_mode": {
    "name": "ipython",
    "version": 3
   },
   "file_extension": ".py",
   "mimetype": "text/x-python",
   "name": "python",
   "nbconvert_exporter": "python",
   "pygments_lexer": "ipython3",
   "version": "3.8.5"
  }
 },
 "nbformat": 4,
 "nbformat_minor": 5
}
